{
 "cells": [
  {
   "cell_type": "markdown",
   "metadata": {},
   "source": [
    "# Steganography in Python"
   ]
  },
  {
   "cell_type": "code",
   "execution_count": 1,
   "metadata": {},
   "outputs": [
    {
     "name": "stdout",
     "output_type": "stream",
     "text": [
      " _________________________________________ \r\n",
      "< Uhhh... I'm supposed to be here, right? >\r\n",
      " ----------------------------------------- \r\n",
      "\\                             .       .\r\n",
      " \\                           / `.   .' \" \r\n",
      "  \\                  .---.  <    > <    >  .---.\r\n",
      "   \\                 |    \\  \\ - ~ ~ - /  /    |\r\n",
      "         _____          ..-~             ~-..-~\r\n",
      "        |     |   \\~~~\\.'                    `./~~~/\r\n",
      "       ---------   \\__/                        \\__/\r\n",
      "      .'  O    \\     /               /       \\  \" \r\n",
      "     (_____,    `._.'               |         }  \\/~~~/\r\n",
      "      `----.          /       }     |        /    \\__/\r\n",
      "            `-.      |       /      |       /      `. ,~~|\r\n",
      "                ~-.__|      /_ - ~ ^|      /- _      `..-'   \r\n",
      "                     |     /        |     /     ~-.     `-. _  _  _\r\n",
      "                     |_____|        |_____|         ~ - . _ _ _ _ _>\r\n"
     ]
    }
   ],
   "source": [
    "!cowsay -f stegosaurus \"Uhhh... I'm supposed to be here, right?\""
   ]
  },
  {
   "cell_type": "markdown",
   "metadata": {},
   "source": [
    "## Setup\n",
    "\n",
    "I'll be using Conda (miniconda to be specific) to handle virtual environments, but feel free to use `venv` or whatever else you like.\n",
    "\n",
    "If you don't have python:\n",
    "\n",
    "https://conda.io/miniconda.html\n",
    "\n",
    "Get python 3.\n",
    "\n",
    "On MacOS:\n",
    "```bash\n",
    "$ cd ~\n",
    "$ wget https://repo.continuum.io/miniconda/Miniconda3-latest-MacOSX-x86_64.sh\n",
    "$ bash Miniconda3-latest-MacOSX-x86_64.sh\n",
    "```\n",
    "Type `yes` when prompted.\n",
    "\n",
    "Now set up the environment:\n",
    "\n",
    "```bash\n",
    "$ conda create -n steganography python=3.6 jupyter\n",
    "$ source activate steganography\n",
    "$ pip install jupyter\n",
    "$ git clone git@github.com:fastforwardlabs/steganos.git\n",
    "$ cd steganos\n",
    "$ python setup.py install\n",
    "```\n",
    "And start a notebook server\n",
    "```bash\n",
    "$ jupiter notebook\n",
    "```\n",
    "\n",
    "If things don't automatically open, navigate to `localhost:8888` in your favorite browser."
   ]
  },
  {
   "cell_type": "code",
   "execution_count": 2,
   "metadata": {},
   "outputs": [
    {
     "name": "stdout",
     "output_type": "stream",
     "text": [
      "/Users/charlesfranzen/steganos\n"
     ]
    }
   ],
   "source": [
    "cd ~/steganos"
   ]
  },
  {
   "cell_type": "markdown",
   "metadata": {},
   "source": [
    "## Brainstorm: What is steganography?\n",
    "\n",
    "Discuss with a partner. Can you think of any examples of steganography? "
   ]
  },
  {
   "cell_type": "markdown",
   "metadata": {},
   "source": [
    "## Text steganography\n",
    "\n",
    "This blogpost inspired this talk.\n",
    "\n",
    "http://blog.fastforwardlabs.com/2017/06/23/fingerprinting-documents-with-steganography.html"
   ]
  },
  {
   "cell_type": "code",
   "execution_count": 3,
   "metadata": {},
   "outputs": [],
   "source": [
    "import steganos"
   ]
  },
  {
   "cell_type": "markdown",
   "metadata": {},
   "source": [
    "source code here: https://github.com/fastforwardlabs/steganos\n",
    "\n",
    "Let's start with a short sample of text:"
   ]
  },
  {
   "cell_type": "code",
   "execution_count": 4,
   "metadata": {},
   "outputs": [
    {
     "name": "stdout",
     "output_type": "stream",
     "text": [
      "\"Hiya!\" he said.\n",
      "\t\"I cannot believe there are 6 elephants outside!\"\n"
     ]
    }
   ],
   "source": [
    "original_text = '\"Hiya!\" he said.\\n\\t\"I cannot believe there are 6 elephants outside!\"'\n",
    "print(original_text)"
   ]
  },
  {
   "cell_type": "markdown",
   "metadata": {},
   "source": [
    "How can we encode information in this text?\n",
    "\n",
    "By identifying branchpoints in the text, ie. points at which we can alter the text in a subtle way.\n",
    "\n",
    "Examples of branchpoints:\n",
    "* contractions\n",
    "* numerals\n",
    "* confusable characters\n",
    "* invisible characters\n",
    "\n",
    "Exercise: Read through the source [here](https://github.com/fastforwardlabs/steganos/blob/master/steganos/src/branchpoints.py) and identify at least 2 other branchpoints. Try to think of a branchpoint that's _not_ in the source. Their list is by no means exhaustive!\n"
   ]
  },
  {
   "cell_type": "code",
   "execution_count": 5,
   "metadata": {},
   "outputs": [
    {
     "name": "stdout",
     "output_type": "stream",
     "text": [
      "12 bits can be encoded in \n",
      "\"Hiya!\" he said.\n",
      "\t\"I cannot believe there are 6 elephants outside!\"\n"
     ]
    }
   ],
   "source": [
    "capacity = steganos.bit_capacity(original_text)\n",
    "print(f'{capacity} bits can be encoded in \\n{original_text}')"
   ]
  },
  {
   "cell_type": "code",
   "execution_count": 6,
   "metadata": {},
   "outputs": [
    {
     "data": {
      "text/plain": [
       "[[(17, 18, '    ')], [(21, 27, \"can't\")]]"
      ]
     },
     "execution_count": 6,
     "metadata": {},
     "output_type": "execute_result"
    }
   ],
   "source": [
    "# ascii branchpoints\n",
    "steganos.src.branchpoints.ascii_branchpoints(original_text)"
   ]
  },
  {
   "cell_type": "markdown",
   "metadata": {},
   "source": [
    "What are some other branchpoints in this text sample?"
   ]
  },
  {
   "cell_type": "markdown",
   "metadata": {},
   "source": []
  },
  {
   "cell_type": "markdown",
   "metadata": {},
   "source": [
    "The package can encode bits automatically."
   ]
  },
  {
   "cell_type": "code",
   "execution_count": 7,
   "metadata": {},
   "outputs": [
    {
     "name": "stdout",
     "output_type": "stream",
     "text": [
      "***Original***\n",
      "\"Hiya!\" he said.\n",
      "\t\"I cannot believe there are 6 elephants outside!\"\n",
      "\n",
      "***Encoded***\n",
      "\"Hiya!\" he said‏‎.\n",
      "    \"I cannot​ believe​ there are six elephants​ outside!\"\n",
      "\n",
      "The message \"100110011001\" was decoded.\n"
     ]
    }
   ],
   "source": [
    "# encoding some bits\n",
    "hidden_bits = '1001'\n",
    "encoded_text = steganos.encode(hidden_bits, original_text)\n",
    "print('***Original***')\n",
    "print(original_text)\n",
    "print('\\n***Encoded***')\n",
    "print(encoded_text)\n",
    "decoded_bits = steganos.decode_full_text(encoded_text, original_text)\n",
    "print(f'\\nThe message \"{decoded_bits}\" was decoded.')"
   ]
  },
  {
   "cell_type": "markdown",
   "metadata": {},
   "source": [
    "Exercise: Examine the differences in the string representations. Do you notice anything odd? Try flipping some of the hidden bits. Which branchpoints are the most noticeable?"
   ]
  },
  {
   "cell_type": "code",
   "execution_count": null,
   "metadata": {},
   "outputs": [],
   "source": []
  },
  {
   "cell_type": "markdown",
   "metadata": {},
   "source": [
    "Exercise: Create your own text to encode information into. What's its bit capacity according to `steganos`? Can you create a text that is shorter than the above text, looks innocuous, and has a _higher_ bit capacity than 12? Identify some branchpoints in your message. Try encoding and decoding some bits."
   ]
  },
  {
   "cell_type": "code",
   "execution_count": null,
   "metadata": {},
   "outputs": [],
   "source": []
  },
  {
   "cell_type": "markdown",
   "metadata": {},
   "source": [
    "It's great that we can encode bits, but ultimately we want to encode hidden messages.\n",
    "\n",
    "### Objective: convert message strings into bit strings\n",
    "\n",
    "Bit strings can be encoded by `steganos`, but only message strings can be read by humans. As it happens, computers _also_ represent strings as bits.\n",
    "\n",
    "### A brief detour on string encodings\n",
    "\n",
    "#### Discuss with a partner: how are strings represented in computers?\n",
    "\n",
    "We won't talk about the data structures used in string representation, just the encoding schemes. There are many ([here's an old western European one](https://en.wikipedia.org/wiki/EBCDIC_1047)), but **ASCII** and **Unicode** are the most important in Python.\n",
    "\n",
    "**ASCII**:\n",
    "* Standard encoding in Python 2.\n",
    "* One byte per character.\n",
    "* 2^7 = 128 characters (not all of which are printable).\n",
    "* Each character maps to an integer, which is also the encoding.\n",
    "    * eg. 'A' = 65 = 01000001\n",
    "    * eg. 'a' = 97 = 01100001\n",
    "    * Yes, there's an extra bit. ASCII was concieved before the 8-bit byte became a standard.\n",
    "* Caused many headaches when having to convert between encodings.\n",
    "\n",
    "https://ascii.cl/\n",
    "\n",
    "\n",
    "**Unicode**:\n",
    "* Standard encoding in Python 3.\n",
    "* Variable byte encoding (1-4).\n",
    "* Over 1M characters.\n",
    "* Each character maps to an integer, or _code point_, which has different encodings.\n",
    "* One encoding to rule them all. Get text from your colleage in Japan. You still might not be able to read it, but it won't be the encoding's fault!\n",
    "* ASCII converts directly to UTF-8.\n",
    "\n",
    "https://www.unicode.org/\n",
    "\n",
    "While Unicode was created to help people communicate more easily, it also helps our deception through steganography.\n",
    "\n",
    "### Back to string-to-bit conversion"
   ]
  },
  {
   "cell_type": "code",
   "execution_count": 8,
   "metadata": {},
   "outputs": [
    {
     "name": "stdout",
     "output_type": "stream",
     "text": [
      "\"A\" as an int: 65\n",
      "65 as a char: A\n",
      "100 in octal: 0o144\n",
      "100 in hex: 0x64\n",
      "0xff in base 10: 255\n",
      "0o377 in base 10: 255\n"
     ]
    }
   ],
   "source": [
    "# useful functions for working with characters\n",
    "\n",
    "# ord() converts unicode string characters into ints\n",
    "print(f'\"A\" as an int: {ord(\"A\")}')\n",
    "# chr() does the reverse\n",
    "print(f'65 as a char: {chr(65)}')\n",
    "\n",
    "# oct() and hex() convert ints to base 8 and 16, respectively\n",
    "print(f'100 in octal: {oct(100)}')\n",
    "print(f'100 in hex: {hex(100)}')\n",
    "\n",
    "# int takes a kwarg for base\n",
    "print(f'0xff in base 10: {int(\"0xff\", base=16)}')\n",
    "print(f'0o377 in base 10: {int(\"0o377\", base=8)}')"
   ]
  },
  {
   "cell_type": "code",
   "execution_count": 9,
   "metadata": {},
   "outputs": [
    {
     "name": "stdout",
     "output_type": "stream",
     "text": [
      "[67, 104, 105, 961]\n",
      "Chiρ\n"
     ]
    }
   ],
   "source": [
    "# converting between ints and chars\n",
    "# ints returned for Unicode return the code point.\n",
    "# NOTE: when lookin up code points, they are usually given as hex values\n",
    "ints = [ord(c) for c in 'Chiρ']\n",
    "print(ints)\n",
    "chars = [chr(i) for i in ints]\n",
    "print(''.join(chars))"
   ]
  },
  {
   "cell_type": "markdown",
   "metadata": {},
   "source": [
    "Confusables can be used to create branchpoints."
   ]
  },
  {
   "cell_type": "code",
   "execution_count": 10,
   "metadata": {},
   "outputs": [
    {
     "data": {
      "text/plain": [
       "'Ϲ'"
      ]
     },
     "execution_count": 10,
     "metadata": {},
     "output_type": "execute_result"
    }
   ],
   "source": [
    "# confusables in unicode\n",
    "chr(int('03f9', base=16))"
   ]
  },
  {
   "cell_type": "code",
   "execution_count": 11,
   "metadata": {},
   "outputs": [
    {
     "data": {
      "text/plain": [
       "'ρ'"
      ]
     },
     "execution_count": 11,
     "metadata": {},
     "output_type": "execute_result"
    }
   ],
   "source": [
    "chr(int('03c1', base=16))"
   ]
  },
  {
   "cell_type": "code",
   "execution_count": 12,
   "metadata": {},
   "outputs": [
    {
     "data": {
      "text/plain": [
       "'㪘'"
      ]
     },
     "execution_count": 12,
     "metadata": {},
     "output_type": "execute_result"
    }
   ],
   "source": [
    "# unicode support glyphs from many languages\n",
    "chr(15000)"
   ]
  },
  {
   "cell_type": "markdown",
   "metadata": {},
   "source": [
    "Exercise: Print your name in confusable characters. Look up confusables for your name [here](https://unicode.org/cldr/utility/confusables.jsp?a=Chip&r=None). Represent your confusable name as a string, as base 10 ints, and as hex values."
   ]
  },
  {
   "cell_type": "code",
   "execution_count": null,
   "metadata": {},
   "outputs": [],
   "source": []
  },
  {
   "cell_type": "code",
   "execution_count": 13,
   "metadata": {},
   "outputs": [
    {
     "name": "stdout",
     "output_type": "stream",
     "text": [
      "Ϲհꭵρ\n",
      "𝙲𝚑𝚒𝚙\n",
      "Chip\n"
     ]
    }
   ],
   "source": [
    "def hex_to_str(hex_list):\n",
    "    return ''.join([chr(int(code, base=16)) for code in hex_list])\n",
    "\n",
    "confused_chip = ['03f9', '0570', 'ab75', '03c1']\n",
    "print(hex_to_str(confused_chip))\n",
    "very_confused_chip = ['1d672', '1d691', '1d692', '1d699']\n",
    "print(hex_to_str(very_confused_chip))\n",
    "print('Chip')"
   ]
  },
  {
   "cell_type": "markdown",
   "metadata": {},
   "source": [
    "`int`s can be easily converted into binary. Let's try to use this to encode characters from our message for enciphering."
   ]
  },
  {
   "cell_type": "code",
   "execution_count": 14,
   "metadata": {},
   "outputs": [
    {
     "name": "stdout",
     "output_type": "stream",
     "text": [
      "λ as an int: 955\n",
      "in binary: 0b1110111011\n",
      "n bits required to represent lambda: 10\n"
     ]
    }
   ],
   "source": [
    "print(f'λ as an int: {ord(\"λ\")}')\n",
    "print(f'in binary: {bin(955)}')\n",
    "print(f'n bits required to represent lambda: {len(bin(955)[2:])}')"
   ]
  },
  {
   "cell_type": "code",
   "execution_count": 15,
   "metadata": {},
   "outputs": [
    {
     "name": "stdout",
     "output_type": "stream",
     "text": [
      "14\n",
      "27\n"
     ]
    }
   ],
   "source": [
    "print(int('01110', base=2))\n",
    "print(int('11011', base=2))"
   ]
  },
  {
   "cell_type": "code",
   "execution_count": 16,
   "metadata": {},
   "outputs": [
    {
     "data": {
      "text/plain": [
       "'\\x0e'"
      ]
     },
     "execution_count": 16,
     "metadata": {},
     "output_type": "execute_result"
    }
   ],
   "source": [
    "chr(14)"
   ]
  },
  {
   "cell_type": "code",
   "execution_count": 17,
   "metadata": {},
   "outputs": [
    {
     "data": {
      "text/plain": [
       "'\\x1b'"
      ]
     },
     "execution_count": 17,
     "metadata": {},
     "output_type": "execute_result"
    }
   ],
   "source": [
    "chr(27)"
   ]
  },
  {
   "cell_type": "markdown",
   "metadata": {},
   "source": [
    "Huh, the binary representaion of $\\lambda$ requires 10 bits. See any problems here?\n",
    "\n",
    "How to tell the difference between $\\lambda$ (01110111011) and Form Feed (01110) followed by End of Transmission Block (10001)?\n",
    "\n",
    "### All about bytes\n",
    "\n",
    "Unicode to the rescue! Unicode encodes characters as bytes (blocks of 8 bits). UTF-8 is variable byte, with each character taking up between 1 and 4 bytes. https://en.wikipedia.org/wiki/UTF-8#Description Each character is easily seperable. There are other Unicode encodings (UTF-16 and UTF-32), but UTF-8 tends to be the most compact."
   ]
  },
  {
   "cell_type": "code",
   "execution_count": 18,
   "metadata": {},
   "outputs": [
    {
     "name": "stdout",
     "output_type": "stream",
     "text": [
      "original string: Chiρ\n",
      "encoded: b'Chi\\xcf\\x81'\n",
      "printing each element: [67, 104, 105, 207, 129]\n",
      "type of encoded string: <class 'bytes'>\n",
      "decoded: Chiρ\n"
     ]
    }
   ],
   "source": [
    "# string.encode() converts strings into bytes\n",
    "# string.decode() does the reverse\n",
    "\n",
    "# NOTE: the default encoding in python3 is utf-8, but I'll pass it explicitly here to stress\n",
    "# that we are using this encoding.\n",
    "chip_still_confused = 'Chiρ'\n",
    "print(f'original string: {chip_still_confused}')\n",
    "encoded = 'Chiρ'.encode('utf-8')\n",
    "print(f'encoded: {encoded}')\n",
    "print(f'printing each element: {[c for c in encoded]}')\n",
    "print(f'type of encoded string: {type(encoded)}')\n",
    "decoded = encoded.decode('utf-8')\n",
    "print(f'decoded: {decoded}')"
   ]
  },
  {
   "cell_type": "markdown",
   "metadata": {},
   "source": [
    "Exercise: write a function that takes in a unicode string and returns a binary string representation. Use UTF-8."
   ]
  },
  {
   "cell_type": "code",
   "execution_count": 19,
   "metadata": {},
   "outputs": [],
   "source": [
    "def message_to_bit_string(message):\n",
    "    bytes_message = message.encode('utf-8', 'strict')\n",
    "    bin_list = [bin(c) for c in bytes_message]\n",
    "    bit_string_list = [c[2:].rjust(8, '0') for c in bin_list]\n",
    "    bit_string = ''.join(bit_string_list)\n",
    "    return bit_string\n",
    "\n",
    "def chunk_string(s, n, fill=None):\n",
    "    if fill is None:\n",
    "        assert len(s) % n == 0, f'{s}, len {len(s)}, must break evenly into {n} chunks'\n",
    "    else:\n",
    "        n_fill_chars = (n - (len(s) % n)) % n\n",
    "        s += fill * n_fill_chars\n",
    "    return [s[i:i+n] for i in range(0, len(s), n)]\n",
    "    \n",
    "def bit_string_to_message(bit_string):\n",
    "    bit_string_list = chunk_string(bit_string, 8)\n",
    "    ints_list = [(int(c, base=2)) for c in bit_string_list]\n",
    "    byte_string = bytes(ints_list)\n",
    "    chars = byte_string.decode('utf-8')\n",
    "    return chars"
   ]
  },
  {
   "cell_type": "code",
   "execution_count": null,
   "metadata": {},
   "outputs": [],
   "source": []
  },
  {
   "cell_type": "code",
   "execution_count": 20,
   "metadata": {},
   "outputs": [],
   "source": [
    "# tests\n",
    "assert message_to_bit_string('Chíp') == '0100001101101000110000111010110101110000'\n",
    "assert message_to_bit_string('Noisebridge') == '0100111001101111011010010111001101100101011000100111001001101001011001000110011101100101'"
   ]
  },
  {
   "cell_type": "markdown",
   "metadata": {},
   "source": [
    "Exercise: write the reverse, ie. a function that takes in a binary string and returns a unicode message. Use UTF-8. This is a bit harder than the first one."
   ]
  },
  {
   "cell_type": "code",
   "execution_count": null,
   "metadata": {},
   "outputs": [],
   "source": []
  },
  {
   "cell_type": "code",
   "execution_count": 21,
   "metadata": {},
   "outputs": [],
   "source": [
    "# tests\n",
    "assert bit_string_to_message('0100100001101001011110010110000100100001') == 'Hiya!'\n",
    "assert bit_string_to_message('11101000101011111011011111100111101110111001100111100110100010001001000111100100101110001000000011100110100111011010111111101001100001011001001000100001') == '请给我一杯酒!'"
   ]
  },
  {
   "cell_type": "code",
   "execution_count": 22,
   "metadata": {},
   "outputs": [
    {
     "data": {
      "text/plain": [
       "['chip i', 's the ', 'greate', 'stxxxx']"
      ]
     },
     "execution_count": 22,
     "metadata": {},
     "output_type": "execute_result"
    }
   ],
   "source": [
    "chunk_string('chip is the greatest', 6, fill='x')"
   ]
  },
  {
   "cell_type": "code",
   "execution_count": 23,
   "metadata": {},
   "outputs": [
    {
     "name": "stdout",
     "output_type": "stream",
     "text": [
      "original message: λ is cool!\n",
      "len: 10 unicode characters\n",
      "as bits: 1100111010111011001000000110100101110011001000000110001101101111011011110110110000100001\n",
      "len: 88 bits\n",
      "chunked into bytes: ['11001110', '10111011', '00100000', '01101001', '01110011', '00100000', '01100011', '01101111', '01101111', '01101100', '00100001']\n",
      "decoded: λ is cool!\n"
     ]
    }
   ],
   "source": [
    "# full demo of the above functions\n",
    "message = 'λ is cool!'\n",
    "bit_string = message_to_bit_string(message)\n",
    "print(f'original message: {message}')\n",
    "print(f'len: {len(message)} unicode characters')\n",
    "print(f'as bits: {bit_string}')\n",
    "print(f'len: {len(bit_string)} bits')\n",
    "print(f'chunked into bytes: {chunk_string(bit_string, 8)}')\n",
    "print(f'decoded: {bit_string_to_message(bit_string)}')"
   ]
  },
  {
   "cell_type": "markdown",
   "metadata": {},
   "source": [
    "Now that we did all that work, here are functions provided by `steganos` to do the conversion for you!"
   ]
  },
  {
   "cell_type": "code",
   "execution_count": 24,
   "metadata": {},
   "outputs": [
    {
     "data": {
      "text/plain": [
       "'01000011011010000110100101110000'"
      ]
     },
     "execution_count": 24,
     "metadata": {},
     "output_type": "execute_result"
    }
   ],
   "source": [
    "steganos.bytes_to_binary('Chip'.encode('utf_8', 'strict'))"
   ]
  },
  {
   "cell_type": "code",
   "execution_count": 25,
   "metadata": {},
   "outputs": [
    {
     "data": {
      "text/plain": [
       "b'Chip'"
      ]
     },
     "execution_count": 25,
     "metadata": {},
     "output_type": "execute_result"
    }
   ],
   "source": [
    "steganos.binary_to_bytes('01000011011010000110100101110000')"
   ]
  },
  {
   "cell_type": "markdown",
   "metadata": {},
   "source": [
    "Let's work with a longer text."
   ]
  },
  {
   "cell_type": "code",
   "execution_count": 26,
   "metadata": {},
   "outputs": [
    {
     "name": "stdout",
     "output_type": "stream",
     "text": [
      "\n",
      "    CONFIDENTIAL: INTERNAL ONLY\n",
      "    GOOGLERS ONLY (FULL TIME AND PART TIME EMPLOYEES)\n",
      "\n",
      "    I’m pleased to share some very, very good news with Googlers worldwide. But first let me say, on behalf of everyone on the management team, that we believe we have the best employees in the world. Period. The brightest, most capable group of this size ever assembled. It’s why I’m excited to come to work every day—and I’m sure you feel the same way. We want to make sure that you feel rewarded for your hard work, and we want to continue to attract the best people to Google.\n",
      "\n",
      "    So that is why we’ve decided...to give all of you a 10% raise, effective January 1st. This salary increase is global and across the board—everyone gets a raise, no matter their level, to recognize the contribution that each and every one of you makes to Google.\n",
      "\n",
      "    There’s more. We’ve heard from your feedback on Googlegeist and other surveys that salary is more important to you than any other component of pay (i.e., bonus and equity). To address that, we’re moving a portion of your bonus into your base salary, so now it’s income you can count on, every time you get your paycheck. That’s also effective January 1st. You’ll be receiving an email shortly with further details about these changes to your compensation. And one last thing...today we’re announcing that everyone will get a holiday cash bonus, too.\n",
      "\n",
      "    Googlers, you are what makes this company great, and our goal here is to recognize you for your contribution, in a way that’s meaningful to you. Thank you for all that you do, and for making Google a place where magic happens.\n",
      "\n",
      "    Eric\n",
      "\n"
     ]
    }
   ],
   "source": [
    "with open('../noisebridge_steg_1/confidential.txt') as f:\n",
    "    base_text = f.read()\n",
    "print(base_text)"
   ]
  },
  {
   "cell_type": "markdown",
   "metadata": {},
   "source": [
    "What length messages can be encoded?"
   ]
  },
  {
   "cell_type": "code",
   "execution_count": 27,
   "metadata": {},
   "outputs": [
    {
     "name": "stdout",
     "output_type": "stream",
     "text": [
      "We can encode 343 bits into this file. This is a max of 42 unicode characters.\n"
     ]
    }
   ],
   "source": [
    "capacity = steganos.bit_capacity(base_text)\n",
    "print(f'We can encode {capacity} bits into this file. This is a max of {capacity // 8} unicode characters.')"
   ]
  },
  {
   "cell_type": "code",
   "execution_count": 28,
   "metadata": {},
   "outputs": [
    {
     "name": "stdout",
     "output_type": "stream",
     "text": [
      "At 312 bits, this is close to the longest message we can encode.\n"
     ]
    }
   ],
   "source": [
    "secret_message = 'Meet me at midnight at the usual place.'\n",
    "secret_message_bits = message_to_bit_string(secret_message)\n",
    "assert len(secret_message_bits) <= capacity\n",
    "print(f'At {len(secret_message_bits)} bits, this is close to the longest message we can encode.')\n",
    "encoded_text = steganos.encode(bit_string, base_text)"
   ]
  },
  {
   "cell_type": "code",
   "execution_count": 29,
   "metadata": {},
   "outputs": [],
   "source": [
    "import os\n",
    "user_dir = os.path.expanduser('~')\n",
    "with open(user_dir +'/noisebridge_steg_1/secret_message.txt', mode='w', encoding='utf-8', errors='strict') as f:\n",
    "    f.write(encoded_text)"
   ]
  },
  {
   "cell_type": "code",
   "execution_count": 30,
   "metadata": {},
   "outputs": [
    {
     "name": "stdout",
     "output_type": "stream",
     "text": [
      "\n",
      "    C⁠ONF⁠I⁠D⁠EN⁠TI⁠A⁠L⁠: IN⁠T⁠ERN⁠AL ONLY\n",
      "    G⁠O⁠OG⁠LER⁠S O⁠N⁠L⁠Y (FU⁠L⁠L TI⁠ME AND PA⁠R⁠T TIM⁠E​ EM⁠P⁠LO⁠Y⁠E⁠E⁠S)\n",
      "\n",
      "    I⁠’m​ pleased to​ share​ some​ very, very​ good news​ with​ Googlers​ worldwide‏‎. But first let me​ say, on behalf of everyone on​ the​ management​ team, that we believe​ we​ have​ the best​ employees in​ the​ world‏‎. Period‏‎. T⁠he brightest, most capable​ group of this size ever assembled. I⁠t’s​ why I⁠’m excited to​ come to​ work​ every​ day—and I’m​ sure​ you feel the​ same way. We want to make​ sure​ that you feel rewarded​ for​ your hard​ work, and​ we want​ to​ continue​ to​ attract the​ best​ people to​ G⁠oogle‏‎.\n",
      "\n",
      "    S⁠o that​ is​ why we’ve​ decided...to​ give all of you a​ 10% raise, effective January onest. T⁠his​ salary​ increase is global​ and​ across​ the board—everyone​ gets a​ raise, no​ matter​ their level, to​ recognize​ the contribution that​ each and every one of you makes​ to​ Google‏‎.\n",
      "\n",
      "    There’s more‏‎. We’ve​ heard​ from​ your feedback on​ G⁠ooglegeist and other​ surveys that salary is more important to​ you​ than any other component​ of​ pay (i.e., bonus​ and​ equity). T⁠o​ address​ that, we’re​ moving a​ portion​ of your​ bonus​ into​ your​ base salary, so​ now​ it’s income​ you​ can count on, every time you​ get your paycheck. That’s​ also​ effective​ January onest‏‎. Y⁠ou’ll​ be receiving​ an email​ shortly​ with​ further details​ about​ these changes to​ your compensation. And one last thing...today​ we’re​ announcing that​ everyone will get​ a holiday​ cash​ bonus, too‏‎.\n",
      "\n",
      "    Googlers, you are​ what​ makes this company​ great, and our goal here is to recognize​ you​ for your contribution, in a​ way​ that’s meaningful​ to​ you. T⁠hank​ you​ for​ all that​ you​ do, and for​ making​ G⁠oogle​ a place​ where​ magic happens‏‎.\n",
      "\n",
      "    E⁠ric\n",
      "\n"
     ]
    }
   ],
   "source": [
    "print(encoded_text)"
   ]
  },
  {
   "cell_type": "markdown",
   "metadata": {},
   "source": [
    "Exercise: Can you detect whether the text has been tampered with?\n",
    "\n",
    "Try:\n",
    "* the default text editor (text edit in macOS)\n",
    "* Sublime Text\n",
    "* Atom\n",
    "* \\*nix tools (`less`, `cat`, `diff`, etc.)\n",
    "* vim/vi\n",
    "* emacs\n",
    "* etc."
   ]
  },
  {
   "cell_type": "markdown",
   "metadata": {},
   "source": [
    "Exercise: Look at the file `nothing_to_see_here.txt`. Decode the hidden message."
   ]
  },
  {
   "cell_type": "code",
   "execution_count": null,
   "metadata": {},
   "outputs": [],
   "source": []
  },
  {
   "cell_type": "markdown",
   "metadata": {},
   "source": [
    "Exercise: I have sent you a document that is fingerprinted with an id number. You want to release the document to the world, but if I know it's you I'll never invite you to our weekly board game night again! Alter the message to evade this attack, so I'll never know it was you who shared my secrets!"
   ]
  },
  {
   "cell_type": "code",
   "execution_count": null,
   "metadata": {},
   "outputs": [],
   "source": []
  }
 ],
 "metadata": {
  "kernelspec": {
   "display_name": "Python 3",
   "language": "python",
   "name": "python3"
  },
  "language_info": {
   "codemirror_mode": {
    "name": "ipython",
    "version": 3
   },
   "file_extension": ".py",
   "mimetype": "text/x-python",
   "name": "python",
   "nbconvert_exporter": "python",
   "pygments_lexer": "ipython3",
   "version": "3.6.4"
  }
 },
 "nbformat": 4,
 "nbformat_minor": 2
}
